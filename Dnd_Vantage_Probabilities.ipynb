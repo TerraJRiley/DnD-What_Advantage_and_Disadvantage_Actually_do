{
 "cells": [
  {
   "cell_type": "code",
   "execution_count": 1,
   "metadata": {},
   "outputs": [],
   "source": [
    "import pandas as pd\n",
    "import random\n",
    "import numpy as np\n",
    "import matplotlib.pyplot as plt\n",
    "import seaborn as sns\n",
    "\n",
    "%matplotlib inline"
   ]
  },
  {
   "cell_type": "code",
   "execution_count": 2,
   "metadata": {},
   "outputs": [],
   "source": [
    "def d(sides):\n",
    "    return random.randint(1,sides)"
   ]
  },
  {
   "cell_type": "markdown",
   "metadata": {},
   "source": [
    "## Advantage & Disadvantage"
   ]
  },
  {
   "cell_type": "code",
   "execution_count": 3,
   "metadata": {},
   "outputs": [
    {
     "data": {
      "image/png": "[encoded data removed]",
      "text/plain": [
       "<Figure size 432x288 with 1 Axes>"
      ]
     },
     "metadata": {
      "needs_background": "light"
     },
     "output_type": "display_data"
    }
   ],
   "source": [
    "# And now, an illistraction of a normal d20 roll\n",
    "scores_nonvantage = []\n",
    "for i in range(100000):\n",
    "    scores_nonvantage.append(d(20))\n",
    "\n",
    "sns.countplot(scores_nonvantage);"
   ]
  },
  {
   "cell_type": "code",
   "execution_count": 4,
   "metadata": {},
   "outputs": [],
   "source": [
    "def vantage(value):\n",
    "    rolls = [d(20),d(20)]\n",
    "    #print(rolls)\n",
    "    if value == True:\n",
    "        rolls.remove(min(rolls))\n",
    "    elif value == False:\n",
    "        rolls.remove(max(rolls))\n",
    "    else:\n",
    "        return \"MISTAKE\"\n",
    "    return rolls[0]\n"
   ]
  },
  {
   "cell_type": "code",
   "execution_count": 5,
   "metadata": {},
   "outputs": [
    {
     "data": {
      "image/png": "[encoded data removed]",
      "text/plain": [
       "<Figure size 432x288 with 1 Axes>"
      ]
     },
     "metadata": {
      "needs_background": "light"
     },
     "output_type": "display_data"
    }
   ],
   "source": [
    "scores_advantage = []\n",
    "for i in range(100000):\n",
    "    scores_advantage.append(vantage(True))\n",
    "\n",
    "sns.countplot(scores_advantage);"
   ]
  },
  {
   "cell_type": "code",
   "execution_count": 6,
   "metadata": {},
   "outputs": [
    {
     "data": {
      "image/png": "[encoded data removed]",
      "text/plain": [
       "<Figure size 432x288 with 1 Axes>"
      ]
     },
     "metadata": {
      "needs_background": "light"
     },
     "output_type": "display_data"
    }
   ],
   "source": [
    "scores_disadvantage = []\n",
    "for i in range(100000):\n",
    "    scores_disadvantage.append(vantage(False))\n",
    "\n",
    "sns.countplot(scores_disadvantage);"
   ]
  },
  {
   "cell_type": "code",
   "execution_count": 7,
   "metadata": {},
   "outputs": [],
   "source": [
    "df = pd.DataFrame({\n",
    "    \"Nonvantage\"    : scores_nonvantage,\n",
    "    \"Advantage\"     : scores_advantage, \n",
    "    \"Disadvantage\"  : scores_disadvantage,\n",
    "             })"
   ]
  },
  {
   "cell_type": "code",
   "execution_count": 18,
   "metadata": {},
   "outputs": [],
   "source": [
    "df.to_csv('./df_vantage_rolls.csv', index = False)"
   ]
  },
  {
   "cell_type": "code",
   "execution_count": 8,
   "metadata": {},
   "outputs": [
    {
     "data": {
      "text/plain": [
       "13.82005"
      ]
     },
     "execution_count": 8,
     "metadata": {},
     "output_type": "execute_result"
    }
   ],
   "source": [
    "total = 0\n",
    "for num in scores_advantage:\n",
    "    total = total + num\n",
    "total/len(scores_advantage)"
   ]
  },
  {
   "cell_type": "markdown",
   "metadata": {},
   "source": [
    "## Disadvantage Average"
   ]
  },
  {
   "cell_type": "code",
   "execution_count": 9,
   "metadata": {},
   "outputs": [
    {
     "data": {
      "text/plain": [
       "7.2082"
      ]
     },
     "execution_count": 9,
     "metadata": {},
     "output_type": "execute_result"
    }
   ],
   "source": [
    "# Total disadvantage average of 10,000 results\n",
    "\n",
    "list_avg_result = []\n",
    "num_outer_avg_rounds = 100\n",
    "num_inner_avg_rounds = 100\n",
    "\n",
    "\n",
    "for i in range(num_outer_avg_rounds):\n",
    "    num_total_dis = 0\n",
    "    \n",
    "    for i in range(num_inner_avg_rounds):\n",
    "        num_total_dis = num_total_dis + vantage(False)\n",
    "        \n",
    "    list_avg_result.append(num_total_dis/num_inner_avg_rounds)\n",
    "    \n",
    "sum(list_avg_result)/num_outer_avg_rounds"
   ]
  },
  {
   "cell_type": "code",
   "execution_count": 10,
   "metadata": {},
   "outputs": [
    {
     "data": {
      "text/plain": [
       "7.176020999999997"
      ]
     },
     "execution_count": 10,
     "metadata": {},
     "output_type": "execute_result"
    }
   ],
   "source": [
    "# Total disadvantage average of 1,000,000 results\n",
    "\n",
    "list_avg_result = []\n",
    "num_outer_avg_rounds = 1000\n",
    "num_inner_avg_rounds = 1000\n",
    "\n",
    "\n",
    "for i in range(num_outer_avg_rounds):\n",
    "    num_total_dis = 0\n",
    "    \n",
    "    for i in range(num_inner_avg_rounds):\n",
    "        num_total_dis = num_total_dis + vantage(False)\n",
    "        \n",
    "    list_avg_result.append(num_total_dis/num_inner_avg_rounds)\n",
    "    \n",
    "sum(list_avg_result)/num_outer_avg_rounds"
   ]
  },
  {
   "cell_type": "code",
   "execution_count": 11,
   "metadata": {},
   "outputs": [
    {
     "data": {
      "text/plain": [
       "7.174686999999984"
      ]
     },
     "execution_count": 11,
     "metadata": {},
     "output_type": "execute_result"
    }
   ],
   "source": [
    "# Total disadvantage average of 100,000,000 results\n",
    "\n",
    "list_avg_result = []\n",
    "num_outer_avg_rounds = 10000\n",
    "num_inner_avg_rounds = 10000\n",
    "\n",
    "\n",
    "for i in range(num_outer_avg_rounds):\n",
    "    num_total_dis = 0\n",
    "    \n",
    "    for i in range(num_inner_avg_rounds):\n",
    "        num_total_dis = num_total_dis + vantage(False)\n",
    "        \n",
    "    list_avg_result.append(num_total_dis/num_inner_avg_rounds)\n",
    "    \n",
    "sum(list_avg_result)/num_outer_avg_rounds"
   ]
  },
  {
   "cell_type": "markdown",
   "metadata": {},
   "source": [
    "## Advantage Average"
   ]
  },
  {
   "cell_type": "code",
   "execution_count": 12,
   "metadata": {},
   "outputs": [
    {
     "data": {
      "text/plain": [
       "13.869699999999998"
      ]
     },
     "execution_count": 12,
     "metadata": {},
     "output_type": "execute_result"
    }
   ],
   "source": [
    "# Total advantage average of 10,000 results\n",
    "list_avg_result = []\n",
    "num_outer_avg_rounds = 100\n",
    "num_inner_avg_rounds = 100\n",
    "\n",
    "\n",
    "for i in range(num_outer_avg_rounds):\n",
    "    num_total_vantage = 0\n",
    "    \n",
    "    for i in range(num_inner_avg_rounds):\n",
    "        num_total_vantage = num_total_vantage + vantage(True)\n",
    "        \n",
    "    list_avg_result.append(num_total_vantage/num_inner_avg_rounds)\n",
    "    \n",
    "sum(list_avg_result)/num_outer_avg_rounds"
   ]
  },
  {
   "cell_type": "code",
   "execution_count": 13,
   "metadata": {},
   "outputs": [
    {
     "data": {
      "text/plain": [
       "13.831527000000007"
      ]
     },
     "execution_count": 13,
     "metadata": {},
     "output_type": "execute_result"
    }
   ],
   "source": [
    "# Total advantage average of 1,000,000 results\n",
    "\n",
    "list_avg_result = []\n",
    "num_outer_avg_rounds = 1000\n",
    "num_inner_avg_rounds = 1000\n",
    "\n",
    "\n",
    "for i in range(num_outer_avg_rounds):\n",
    "    num_total_vantage = 0\n",
    "    \n",
    "    for i in range(num_inner_avg_rounds):\n",
    "        num_total_vantage = num_total_vantage + vantage(True)\n",
    "        \n",
    "    list_avg_result.append(num_total_vantage/num_inner_avg_rounds)\n",
    "    \n",
    "sum(list_avg_result)/num_outer_avg_rounds"
   ]
  },
  {
   "cell_type": "code",
   "execution_count": 14,
   "metadata": {},
   "outputs": [
    {
     "data": {
      "text/plain": [
       "13.825260379999998"
      ]
     },
     "execution_count": 14,
     "metadata": {},
     "output_type": "execute_result"
    }
   ],
   "source": [
    "# Total advantage average of 100,000,000 results\n",
    "\n",
    "list_avg_result = []\n",
    "num_outer_avg_rounds = 10000\n",
    "num_inner_avg_rounds = 10000\n",
    "\n",
    "\n",
    "for i in range(num_outer_avg_rounds):\n",
    "    num_total_vantage = 0\n",
    "    \n",
    "    for i in range(num_inner_avg_rounds):\n",
    "        num_total_vantage = num_total_vantage + vantage(True)\n",
    "        \n",
    "    list_avg_result.append(num_total_vantage/num_inner_avg_rounds)\n",
    "    \n",
    "sum(list_avg_result)/num_outer_avg_rounds"
   ]
  },
  {
   "cell_type": "markdown",
   "metadata": {},
   "source": [
    "## 1d20 Average"
   ]
  },
  {
   "cell_type": "code",
   "execution_count": 15,
   "metadata": {},
   "outputs": [
    {
     "data": {
      "text/plain": [
       "10.376000000000003"
      ]
     },
     "execution_count": 15,
     "metadata": {},
     "output_type": "execute_result"
    }
   ],
   "source": [
    "# Total average of 10,000 results\n",
    "\n",
    "list_avg_result = []\n",
    "num_outer_avg_rounds = 100\n",
    "num_inner_avg_rounds = 100\n",
    "\n",
    "\n",
    "for i in range(num_outer_avg_rounds):\n",
    "    num_total_1d20 = 0\n",
    "    \n",
    "    for i in range(num_inner_avg_rounds):\n",
    "        num_total_1d20 = num_total_1d20 + d(20)\n",
    "        \n",
    "    list_avg_result.append(num_total_1d20/num_inner_avg_rounds)\n",
    "    \n",
    "sum(list_avg_result)/num_outer_avg_rounds"
   ]
  },
  {
   "cell_type": "code",
   "execution_count": 16,
   "metadata": {},
   "outputs": [
    {
     "data": {
      "text/plain": [
       "10.496959999999993"
      ]
     },
     "execution_count": 16,
     "metadata": {},
     "output_type": "execute_result"
    }
   ],
   "source": [
    "# Total average of 1,000,000 results\n",
    "\n",
    "list_avg_result = []\n",
    "num_outer_avg_rounds = 1000\n",
    "num_inner_avg_rounds = 1000\n",
    "\n",
    "\n",
    "for i in range(num_outer_avg_rounds):\n",
    "    num_total_1d20 = 0\n",
    "    \n",
    "    for i in range(num_inner_avg_rounds):\n",
    "        num_total_1d20 = num_total_1d20 + d(20)\n",
    "        \n",
    "    list_avg_result.append(num_total_1d20/num_inner_avg_rounds)\n",
    "    \n",
    "sum(list_avg_result)/num_outer_avg_rounds"
   ]
  },
  {
   "cell_type": "code",
   "execution_count": 17,
   "metadata": {},
   "outputs": [
    {
     "data": {
      "text/plain": [
       "10.500324119999974"
      ]
     },
     "execution_count": 17,
     "metadata": {},
     "output_type": "execute_result"
    }
   ],
   "source": [
    "# Total average of 100,000,000 results\n",
    "\n",
    "list_avg_result = []\n",
    "num_outer_avg_rounds = 10000\n",
    "num_inner_avg_rounds = 10000\n",
    "\n",
    "\n",
    "for i in range(num_outer_avg_rounds):\n",
    "    num_total_1d20 = 0\n",
    "    \n",
    "    for i in range(num_inner_avg_rounds):\n",
    "        num_total_1d20 = num_total_1d20 + d(20)\n",
    "        \n",
    "    list_avg_result.append(num_total_1d20/num_inner_avg_rounds)\n",
    "    \n",
    "sum(list_avg_result)/num_outer_avg_rounds"
   ]
  },
  {
   "cell_type": "code",
   "execution_count": null,
   "metadata": {},
   "outputs": [],
   "source": []
  }
 ],
 "metadata": {
  "kernelspec": {
   "display_name": "Python 3",
   "language": "python",
   "name": "python3"
  },
  "language_info": {
   "codemirror_mode": {
    "name": "ipython",
    "version": 3
   },
   "file_extension": ".py",
   "mimetype": "text/x-python",
   "name": "python",
   "nbconvert_exporter": "python",
   "pygments_lexer": "ipython3",
   "version": "3.7.6"
  }
 },
 "nbformat": 4,
 "nbformat_minor": 4
}
